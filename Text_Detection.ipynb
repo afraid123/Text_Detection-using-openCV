{
  "nbformat": 4,
  "nbformat_minor": 0,
  "metadata": {
    "colab": {
      "name": "Text_Detection",
      "provenance": [],
      "authorship_tag": "ABX9TyNLSpwjVueoDZ0jDAAi0PLG",
      "include_colab_link": true
    },
    "kernelspec": {
      "name": "python3",
      "display_name": "Python 3"
    }
  },
  "cells": [
    {
      "cell_type": "markdown",
      "metadata": {
        "id": "view-in-github",
        "colab_type": "text"
      },
      "source": [
        "<a href=\"https://colab.research.google.com/github/afraid123/Text_Detection-using-openCV/blob/master/Text_Detection.ipynb\" target=\"_parent\"><img src=\"https://colab.research.google.com/assets/colab-badge.svg\" alt=\"Open In Colab\"/></a>"
      ]
    },
    {
      "cell_type": "code",
      "metadata": {
        "id": "r7Qt72fm0LDT",
        "colab_type": "code",
        "colab": {}
      },
      "source": [
        "#mount with your drive to access data\n",
        "\n",
        "from google.colab import drive\n",
        "drive.mount('/content/drive')\n",
        "from google.colab import drive\n",
        "drive.mount('/gdrive')\n",
        "%cd /gdrive"
      ],
      "execution_count": 0,
      "outputs": []
    },
    {
      "cell_type": "markdown",
      "metadata": {
        "id": "PwMYhd-ZECyc",
        "colab_type": "text"
      },
      "source": [
        "using openCV detect text and make a shape around it."
      ]
    },
    {
      "cell_type": "code",
      "metadata": {
        "id": "7JO7oINR5s61",
        "colab_type": "code",
        "colab": {}
      },
      "source": [
        "from __future__ import print_function\n",
        "from google.colab.patches import cv2_imshow\n",
        "import cv2\n",
        "\n",
        "import numpy as np\n",
        "from matplotlib import pyplot as plt\n",
        "\n",
        "# Params\n",
        "maxArea = 150\n",
        "minArea = 10\n",
        "\n",
        "# Read image\n",
        "I = cv2.imread('/gdrive/My Drive/Colab Notebooks/images/text/IMG20200121225904.jpg')\n",
        "\n",
        "# Convert to gray\n",
        "Igray = cv2.cvtColor(I,cv2.COLOR_RGB2GRAY)\n",
        "\n",
        "# Threshold\n",
        "ret, Ithresh = cv2.threshold(Igray,0,255,cv2.THRESH_BINARY_INV+cv2.THRESH_OTSU)\n",
        "\n",
        "# Keep only small components but not to small\n",
        "comp = cv2.connectedComponentsWithStats(Ithresh)\n",
        "\n",
        "labels = comp[1]\n",
        "labelStats = comp[2]\n",
        "labelAreas = labelStats[:,4]\n",
        "\n",
        "for compLabel in range(1,comp[0],1):\n",
        "\n",
        "    if labelAreas[compLabel] > maxArea or labelAreas[compLabel] < minArea:\n",
        "        labels[labels==compLabel] = 0\n",
        "\n",
        "labels[labels>0] =  1\n",
        "\n",
        "# Do dilation\n",
        "se = cv2.getStructuringElement(cv2.MORPH_ELLIPSE,(25,25))\n",
        "IdilateText = cv2.morphologyEx(labels.astype(np.uint8),cv2.MORPH_DILATE,se)\n",
        "\n",
        "# Find connected component again\n",
        "comp = cv2.connectedComponentsWithStats(IdilateText)\n",
        "\n",
        "# Draw a rectangle around the text\n",
        "labels = comp[1]\n",
        "labelStats = comp[2]\n",
        "#labelAreas = labelStats[:,4]\n",
        "\n",
        "for compLabel in range(1,comp[0],1):\n",
        "\n",
        "    cv2.rectangle(I,(labelStats[compLabel,0],labelStats[compLabel,1]),(labelStats[compLabel,0]+labelStats[compLabel,2],labelStats[compLabel,1]+labelStats[compLabel,3]),(0,0,255),2)"
      ],
      "execution_count": 0,
      "outputs": []
    },
    {
      "cell_type": "code",
      "metadata": {
        "id": "h1xFLO26CuQk",
        "colab_type": "code",
        "colab": {}
      },
      "source": [
        "\n",
        "cv2_imshow(I)"
      ],
      "execution_count": 0,
      "outputs": []
    },
    {
      "cell_type": "code",
      "metadata": {
        "id": "NxLm_4-0C2jT",
        "colab_type": "code",
        "colab": {}
      },
      "source": [
        ""
      ],
      "execution_count": 0,
      "outputs": []
    }
  ]
}